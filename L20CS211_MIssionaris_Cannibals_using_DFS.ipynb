{
  "nbformat": 4,
  "nbformat_minor": 0,
  "metadata": {
    "colab": {
      "name": "L20CS211_MIssionaris_Cannibals_using_DFS.ipynb",
      "provenance": [],
      "collapsed_sections": [],
      "authorship_tag": "ABX9TyNKwUtwpfk8MOslXPztlSyf",
      "include_colab_link": true
    },
    "kernelspec": {
      "name": "python3",
      "display_name": "Python 3"
    },
    "language_info": {
      "name": "python"
    }
  },
  "cells": [
    {
      "cell_type": "markdown",
      "metadata": {
        "id": "view-in-github",
        "colab_type": "text"
      },
      "source": [
        "<a href=\"https://colab.research.google.com/github/ravitejathota799/Missionaries-Cannibals_using_BFS/blob/main/L20CS211_MIssionaris_Cannibals_using_DFS.ipynb\" target=\"_parent\"><img src=\"https://colab.research.google.com/assets/colab-badge.svg\" alt=\"Open In Colab\"/></a>"
      ]
    },
    {
      "cell_type": "code",
      "execution_count": 4,
      "metadata": {
        "colab": {
          "base_uri": "https://localhost:8080/",
          "height": 391
        },
        "id": "SeDeSTBqd7tc",
        "outputId": "d7ea85c5-bc7a-473b-9145-77c082d7f90a"
      },
      "outputs": [
        {
          "output_type": "stream",
          "name": "stdout",
          "text": [
            "The path in dfs is:\n",
            "(3,3,1),(0,0,0)\n",
            "(2,2,0),(1,1,1)\n",
            "(3,2,1),(0,1,0)\n",
            "(3,0,0),(0,3,1)\n",
            "(3,1,1),(0,2,0)\n",
            "(1,1,0),(2,2,1)\n",
            "(2,2,1),(1,1,0)\n",
            "(0,2,0),(3,1,1)\n",
            "(0,3,1),(3,0,0)\n",
            "(0,1,0),(3,2,1)\n",
            "(1,1,1),(2,2,0)\n",
            "(0,0,0),(3,3,1)\n"
          ]
        },
        {
          "output_type": "error",
          "ename": "SystemExit",
          "evalue": "ignored",
          "traceback": [
            "An exception has occurred, use %tb to see the full traceback.\n",
            "\u001b[0;31mSystemExit\u001b[0m\n"
          ]
        },
        {
          "output_type": "stream",
          "name": "stderr",
          "text": [
            "/usr/local/lib/python3.7/dist-packages/IPython/core/interactiveshell.py:2890: UserWarning: To exit: use 'exit', 'quit', or Ctrl-D.\n",
            "  warn(\"To exit: use 'exit', 'quit', or Ctrl-D.\", stacklevel=1)\n"
          ]
        }
      ],
      "source": [
        "#dfs of Massionaries and canibals\n",
        "import sys\n",
        "def fun(x,y):\n",
        "  if x[2]==1:\n",
        "    s=[(x[0]-2,x[1],0),(x[0]-1,x[1]-1,0),(x[0],x[1]-2,0),(x[0]-1,x[1],0),(x[0],x[1]-1,0)]\n",
        "    r=[(y[0]+2,y[1],1),(y[0]+1,y[1]+1,1),(y[0],y[1]+2,1),(y[0]+1,y[1],1),(y[0],y[1]+1,1)]\n",
        "  else:\n",
        "    s=[(x[0]+2,x[1],1),(x[0]+1,x[1]+1,1),(x[0],x[1]+2,1),(x[0]+1,x[1],1),(x[0],x[1]+1,1)]\n",
        "    r=[(y[0]-2,y[1],0),(y[0]-1,y[1]-1,0),(y[0],y[1]-2,0),(y[0]-1,y[1],0),(y[0],y[1]-1,0)]\n",
        "  x1,x2=[],[]\n",
        "  for i,j in zip(s,r):\n",
        "    if f(i,j):\n",
        "      x1.append(i)\n",
        "      x2.append(j)\n",
        "  return x1,x2\n",
        "def f(p,q):\n",
        "  if p not in v:\n",
        "    if p[0]>=0 and p[1]>=0 and q[0]>=0 and q[1]>=0:\n",
        "      if (p[0]==0 and q[1]==0) or (p[1]==0 and q[0]==0):\n",
        "        return True\n",
        "      elif p[0]==0 or p[1]==0:\n",
        "        if q[0]>=q[1]:return True\n",
        "        else:return False\n",
        "      elif q[0]==0 or q[1]==0:\n",
        "        if p[0]>=p[1]:return True\n",
        "        else:return False\n",
        "      elif p[0]>0 and p[1]>0 and p[0]>=p[1]:\n",
        "        if q[0]>=q[1]:return True\n",
        "        else:return False\n",
        "      elif q[0]>0 and q[1]>0 and q[0]>=q[1]:\n",
        "        if p[0]>=p[1]:return True\n",
        "        else:return False\n",
        "      else:return False\n",
        "    else:return False\n",
        "  else:return False\n",
        "v,h=[],[]\n",
        "def dfs(v,x,y):\n",
        "  v.append(x)\n",
        "  h.append(y)\n",
        "  if x[2]==0:\n",
        "    print(\"({},{},{}),({},{},1)\".format(x[0],x[1],x[2],3-x[0],3-x[1]))\n",
        "  else:\n",
        "    print(\"({},{},{}),({},{},0)\".format(x[0],x[1],x[2],3-x[0],3-x[1]))\n",
        "  if x==(0,0,0):sys.exit()\n",
        "  t1,t2=fun(x,y)\n",
        "  for i,j in zip(t1,t2):\n",
        "    if i not in v:\n",
        "      dfs(v,i,j)\n",
        "print(\"The path in dfs is:\")\n",
        "dfs(v,(3,3,1),(0,0,0))"
      ]
    }
  ]
}