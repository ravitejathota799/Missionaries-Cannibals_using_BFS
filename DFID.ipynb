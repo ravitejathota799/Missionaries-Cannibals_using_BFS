{
  "nbformat": 4,
  "nbformat_minor": 0,
  "metadata": {
    "colab": {
      "name": "DFID.ipynb",
      "provenance": [],
      "authorship_tag": "ABX9TyN7BpCcr29Wm26QJOkEFJQD",
      "include_colab_link": true
    },
    "kernelspec": {
      "name": "python3",
      "display_name": "Python 3"
    },
    "language_info": {
      "name": "python"
    }
  },
  "cells": [
    {
      "cell_type": "markdown",
      "metadata": {
        "id": "view-in-github",
        "colab_type": "text"
      },
      "source": [
        "<a href=\"https://colab.research.google.com/github/ravitejathota799/Missionaries-Cannibals_using_BFS/blob/main/DFID.ipynb\" target=\"_parent\"><img src=\"https://colab.research.google.com/assets/colab-badge.svg\" alt=\"Open In Colab\"/></a>"
      ]
    },
    {
      "cell_type": "code",
      "execution_count": 2,
      "metadata": {
        "colab": {
          "base_uri": "https://localhost:8080/"
        },
        "id": "NyTK8DDpy2FX",
        "outputId": "fa28379c-5f5b-4c36-d0ec-4c0fef7765fe"
      },
      "outputs": [
        {
          "output_type": "stream",
          "name": "stdout",
          "text": [
            "Checking for destination A\n",
            "Checking for destination A\n",
            "Checking for destination B\n",
            "Checking for destination C\n",
            "Checking for destination A\n",
            "Checking for destination B\n",
            "Checking for destination D\n",
            "Checking for destination E\n",
            "A path exists\n",
            "['A', 'B', 'E']\n"
          ]
        }
      ],
      "source": [
        "graph = {\n",
        "    'A': ['B', 'C'],\n",
        "    'B': ['D','E'],\n",
        "    \"C\": ['G'],\n",
        "    'D': [],\n",
        "    'E': ['F'],\n",
        "    'G': [],\n",
        "    'F':[]\n",
        "}\n",
        "\n",
        "path = list()\n",
        "\n",
        "def DFS(currentNode,destination,graph,maxDepth,curList):\n",
        "    print(\"Checking for destination\",currentNode)\n",
        "    curList.append(currentNode)\n",
        "    if currentNode==destination:\n",
        "        return True\n",
        "    if maxDepth<=0:\n",
        "        path.append(curList)\n",
        "        return False\n",
        "    for node in graph[currentNode]:\n",
        "        if DFS(node,destination,graph,maxDepth-1,curList):\n",
        "            return True\n",
        "        else:\n",
        "            curList.pop()\n",
        "    return False\n",
        "\n",
        "def iterativeDDFS(currentNode,destination,graph,maxDepth):\n",
        "    for i in range(maxDepth):\n",
        "        curList = list()\n",
        "        if DFS(currentNode,destination,graph,i,curList):\n",
        "            return True\n",
        "    return False\n",
        "\n",
        "if not iterativeDDFS('A','E',graph,4):\n",
        "    print(\"Path is not available\")\n",
        "else:\n",
        "    print(\"A path exists\")\n",
        "    print(path.pop())"
      ]
    }
  ]
}